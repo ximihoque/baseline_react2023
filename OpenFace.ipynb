{
 "cells": [
  {
   "cell_type": "code",
   "execution_count": null,
   "id": "805bfa1f",
   "metadata": {},
   "outputs": [],
   "source": [
    "import os\n",
    "openFacePath = \"/home/lasii/OpenFace/build/bin/\"\n",
    "\n",
    "results_dir = \"../data/open_face_results/\" \n",
    "\n",
    "videos_dir = \"../data/Videos_flat/\"\n",
    "\n",
    "videos = os.listdir(inputVideos)"
   ]
  },
  {
   "cell_type": "code",
   "execution_count": null,
   "id": "669b4ea4",
   "metadata": {},
   "outputs": [],
   "source": [
    "processed = set()\n",
    "videos = set(videos)\n",
    "results = os.listdir(results_dir)\n",
    "for f in results:\n",
    "    if f.endswith('.csv'):\n",
    "        _f = f.split('.csv')[0] + '.mp4'\n",
    "        if _f in videos:\n",
    "            processed.add(_f)\n",
    "videos = list(videos - processed)\n",
    "total = len(videos)"
   ]
  },
  {
   "cell_type": "code",
   "execution_count": null,
   "id": "477a5023",
   "metadata": {},
   "outputs": [],
   "source": [
    "print (\"Starting process...\")\n",
    "batch_size = 87\n",
    "curr = 0\n",
    "while curr <= (total - batch_size):\n",
    "    print (\"Current batch: %d - %d\"%(curr, curr + batch_size))\n",
    "    string = \"\"\n",
    "    for idx, video in enumerate(videos[curr: curr + batch_size]):\n",
    "    \n",
    "        file_name = os.path.join('/ximi/processed', video)\n",
    "        string += \" -f \"\n",
    "        string += file_name\n",
    "    \n",
    "    print (\"String generated...\")\n",
    "    string = \"sudo docker run -it -v $(pwd):/ximi openface/openface FeatureExtraction %s -out_dir %s -2Dfp -3Dfp -pdmparams -pose -aus -gaze\" \\\n",
    "                  %(string, '/ximi/open_face_results')\n",
    "    print (string)\n",
    "    curr += batch_size"
   ]
  }
 ],
 "metadata": {
  "kernelspec": {
   "display_name": "Python 3 (ipykernel)",
   "language": "python",
   "name": "python3"
  },
  "language_info": {
   "codemirror_mode": {
    "name": "ipython",
    "version": 3
   },
   "file_extension": ".py",
   "mimetype": "text/x-python",
   "name": "python",
   "nbconvert_exporter": "python",
   "pygments_lexer": "ipython3",
   "version": "3.8.10"
  }
 },
 "nbformat": 4,
 "nbformat_minor": 5
}
